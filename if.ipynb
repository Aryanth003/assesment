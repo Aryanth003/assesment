{
 "cells": [
  {
   "cell_type": "code",
   "execution_count": null,
   "metadata": {
    "vscode": {
     "languageId": "plaintext"
    }
   },
   "outputs": [],
   "source": [
    "a,b,c=int(input())*3\n",
    "h=(a+b+c)/3\n",
    "if h>90:\n",
    "    print(\"A\")\n",
    "elif h>=80 and h<=89:\n",
    "    print(\"B\")\n",
    "else:\n",
    "    print(\"Fail)\n"
   ]
  }
 ],
 "metadata": {
  "language_info": {
   "name": "python"
  }
 },
 "nbformat": 4,
 "nbformat_minor": 2
}
