{
 "cells": [
  {
   "cell_type": "code",
   "execution_count": null,
   "metadata": {
    "vscode": {
     "languageId": "plaintext"
    }
   },
   "outputs": [],
   "source": [
    "def calculate_square(n):\n",
    "    return n*n\n",
    "k=int(input())\n",
    "print(calculate_square(k))"
   ]
  },
  {
   "cell_type": "code",
   "execution_count": null,
   "metadata": {
    "vscode": {
     "languageId": "plaintext"
    }
   },
   "outputs": [],
   "source": [
    "a=int(input())\n",
    "for i in range(1,a):\n",
    "    print(i)\n",
    "i=0\n",
    "t=0\n",
    "while(i>=n):\n",
    "    t+=i\n",
    "    i+=1\n",
    "print(t)"
   ]
  }
 ],
 "metadata": {
  "language_info": {
   "name": "python"
  }
 },
 "nbformat": 4,
 "nbformat_minor": 2
}
